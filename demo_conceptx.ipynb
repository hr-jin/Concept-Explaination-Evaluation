{
 "cells": [
  {
   "cell_type": "code",
   "execution_count": 1,
   "metadata": {},
   "outputs": [],
   "source": [
    "import os\n",
    "\n",
    "os.environ[\"ALL_PROXY\"] = \"http://localhost:10809\"\n",
    "\n",
    "from datasets_ import dataset_factory\n",
    "from dataloaders import dataloader_factory\n",
    "from extractors import extractor_factory\n",
    "from models import model_factory\n",
    "\n",
    "from config import cfg"
   ]
  },
  {
   "cell_type": "code",
   "execution_count": 2,
   "metadata": {},
   "outputs": [],
   "source": [
    "cfg_this_demo = {\n",
    "    \"dataset_name\": \"conceptx_data\",\n",
    "    \"extractor\": \"conceptx\",\n",
    "    \"device\": \"cuda:3\",\n",
    "    \"ConceptX_max_token\": 50000,\n",
    "    \"ConceptX_clusters\": 1000,\n",
    "}\n",
    "\n",
    "cfg.update(cfg_this_demo)"
   ]
  },
  {
   "cell_type": "code",
   "execution_count": 3,
   "metadata": {},
   "outputs": [
    {
     "name": "stderr",
     "output_type": "stream",
     "text": [
      "Special tokens have been added in the vocabulary, make sure the associated word embeddings are fine-tuned or trained.\n"
     ]
    },
    {
     "name": "stdout",
     "output_type": "stream",
     "text": [
      "Loaded pretrained model Pythia-70m into HookedTransformer\n",
      "Moving model to device:  cuda:3\n"
     ]
    }
   ],
   "source": [
    "model = model_factory(cfg)"
   ]
  },
  {
   "cell_type": "code",
   "execution_count": 4,
   "metadata": {},
   "outputs": [
    {
     "name": "stdout",
     "output_type": "stream",
     "text": [
      "/root/autodl-tmp/chenhao/my_repo/Concept-Explaination-Evaluation\n"
     ]
    },
    {
     "name": "stderr",
     "output_type": "stream",
     "text": [
      "Special tokens have been added in the vocabulary, make sure the associated word embeddings are fine-tuned or trained.\n"
     ]
    }
   ],
   "source": [
    "data = dataset_factory(cfg)\n",
    "dataloader = dataloader_factory(cfg, data, model)\n",
    "extractor = extractor_factory(cfg, dataloader)"
   ]
  },
  {
   "cell_type": "code",
   "execution_count": 5,
   "metadata": {},
   "outputs": [],
   "source": [
    "extractor.extract_concepts(model)"
   ]
  },
  {
   "cell_type": "code",
   "execution_count": 7,
   "metadata": {},
   "outputs": [
    {
     "data": {
      "text/plain": [
       "torch.Size([1000, 512])"
      ]
     },
     "execution_count": 7,
     "metadata": {},
     "output_type": "execute_result"
    }
   ],
   "source": [
    "concepts=extractor.get_concepts()\n",
    "concepts.shape"
   ]
  }
 ],
 "metadata": {
  "kernelspec": {
   "display_name": "common",
   "language": "python",
   "name": "python3"
  },
  "language_info": {
   "codemirror_mode": {
    "name": "ipython",
    "version": 3
   },
   "file_extension": ".py",
   "mimetype": "text/x-python",
   "name": "python",
   "nbconvert_exporter": "python",
   "pygments_lexer": "ipython3",
   "version": "3.9.18"
  }
 },
 "nbformat": 4,
 "nbformat_minor": 2
}
